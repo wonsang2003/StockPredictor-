{
 "cells": [
  {
   "cell_type": "code",
   "execution_count": 4,
   "id": "d1473012",
   "metadata": {},
   "outputs": [
    {
     "ename": "ModuleNotFoundError",
     "evalue": "No module named 'tensorflow'",
     "output_type": "error",
     "traceback": [
      "\u001b[31m---------------------------------------------------------------------------\u001b[39m",
      "\u001b[31mModuleNotFoundError\u001b[39m                       Traceback (most recent call last)",
      "\u001b[36mCell\u001b[39m\u001b[36m \u001b[39m\u001b[32mIn[4]\u001b[39m\u001b[32m, line 12\u001b[39m\n\u001b[32m     10\u001b[39m \u001b[38;5;28;01mfrom\u001b[39;00m\u001b[38;5;250m \u001b[39m\u001b[34;01msrc\u001b[39;00m\u001b[34;01m.\u001b[39;00m\u001b[34;01mmc_simulation\u001b[39;00m\u001b[38;5;250m \u001b[39m\u001b[38;5;28;01mimport\u001b[39;00m monte_carlo_simulation, plot_simulation\n\u001b[32m     11\u001b[39m \u001b[38;5;28;01mfrom\u001b[39;00m\u001b[38;5;250m \u001b[39m\u001b[34;01msrc\u001b[39;00m\u001b[34;01m.\u001b[39;00m\u001b[34;01mvar_calc\u001b[39;00m\u001b[38;5;250m \u001b[39m\u001b[38;5;28;01mimport\u001b[39;00m historical_var, parametric_var\n\u001b[32m---> \u001b[39m\u001b[32m12\u001b[39m \u001b[38;5;28;01mfrom\u001b[39;00m\u001b[38;5;250m \u001b[39m\u001b[34;01msrc\u001b[39;00m\u001b[34;01m.\u001b[39;00m\u001b[34;01mlstm_model\u001b[39;00m\u001b[38;5;250m \u001b[39m\u001b[38;5;28;01mimport\u001b[39;00m train_lstm_model\n\u001b[32m     13\u001b[39m \u001b[38;5;28;01mfrom\u001b[39;00m\u001b[38;5;250m \u001b[39m\u001b[34;01msrc\u001b[39;00m\u001b[34;01m.\u001b[39;00m\u001b[34;01mportfolio_opt\u001b[39;00m\u001b[38;5;250m \u001b[39m\u001b[38;5;28;01mimport\u001b[39;00m simulate_portfolios, plot_efficient_frontier\n\u001b[32m     15\u001b[39m \u001b[38;5;28;01mimport\u001b[39;00m\u001b[38;5;250m \u001b[39m\u001b[34;01mnumpy\u001b[39;00m\u001b[38;5;250m \u001b[39m\u001b[38;5;28;01mas\u001b[39;00m\u001b[38;5;250m \u001b[39m\u001b[34;01mnp\u001b[39;00m\n",
      "\u001b[36mFile \u001b[39m\u001b[32m/workspaces/StockPredictor-/src/lstm_model.py:4\u001b[39m\n\u001b[32m      2\u001b[39m \u001b[38;5;28;01mimport\u001b[39;00m\u001b[38;5;250m \u001b[39m\u001b[34;01mnumpy\u001b[39;00m\u001b[38;5;250m \u001b[39m\u001b[38;5;28;01mas\u001b[39;00m\u001b[38;5;250m \u001b[39m\u001b[34;01mnp\u001b[39;00m\n\u001b[32m      3\u001b[39m \u001b[38;5;28;01mimport\u001b[39;00m\u001b[38;5;250m \u001b[39m\u001b[34;01mpandas\u001b[39;00m\u001b[38;5;250m \u001b[39m\u001b[38;5;28;01mas\u001b[39;00m\u001b[38;5;250m \u001b[39m\u001b[34;01mpd\u001b[39;00m\n\u001b[32m----> \u001b[39m\u001b[32m4\u001b[39m \u001b[38;5;28;01mimport\u001b[39;00m\u001b[38;5;250m \u001b[39m\u001b[34;01mtensorflow\u001b[39;00m\u001b[38;5;250m \u001b[39m\u001b[38;5;28;01mas\u001b[39;00m\u001b[38;5;250m \u001b[39m\u001b[34;01mtf\u001b[39;00m\n\u001b[32m      5\u001b[39m \u001b[38;5;28;01mfrom\u001b[39;00m\u001b[38;5;250m \u001b[39m\u001b[34;01msklearn\u001b[39;00m\u001b[34;01m.\u001b[39;00m\u001b[34;01mpreprocessing\u001b[39;00m\u001b[38;5;250m \u001b[39m\u001b[38;5;28;01mimport\u001b[39;00m MinMaxScaler\n\u001b[32m      7\u001b[39m \u001b[38;5;28;01mdef\u001b[39;00m\u001b[38;5;250m \u001b[39m\u001b[34mcreate_dataset\u001b[39m(series, window_size=\u001b[32m60\u001b[39m):\n",
      "\u001b[31mModuleNotFoundError\u001b[39m: No module named 'tensorflow'"
     ]
    }
   ],
   "source": [
    "# Import modules\n",
    "import sys\n",
    "import os\n",
    "\n",
    "# Add the parent directory of 'src' to the system path\n",
    "sys.path.append(os.path.abspath(\"../\"))  # if notebook is in /notebooks/\n",
    "sys.path.append(os.path.abspath(\"./\"))   # safe fallback\n",
    "\n",
    "from src.data_loader import get_stock_data\n",
    "from src.mc_simulation import monte_carlo_simulation, plot_simulation\n",
    "from src.var_calc import historical_var, parametric_var\n",
    "from src.lstm_model import train_lstm_model\n",
    "from src.portfolio_opt import simulate_portfolios, plot_efficient_frontier\n",
    "\n",
    "import numpy as np\n",
    "\n",
    "# Load data\n",
    "data = get_stock_data('AAPL')\n",
    "returns = data['log_returns']\n",
    "mu, sigma = returns.mean(), returns.std()\n",
    "\n",
    "# Monte Carlo\n",
    "S0 = data['Close'].iloc[-1]\n",
    "sim = monte_carlo_simulation(S0, mu, sigma)\n",
    "plot_simulation(sim)\n",
    "\n",
    "# VaR\n",
    "print(\"Historical VaR (95%):\", historical_var(returns))\n",
    "print(\"Parametric VaR (95%):\", parametric_var(returns))\n",
    "\n",
    "# LSTM\n",
    "import matplotlib.pyplot as plt\n",
    "\n",
    "series = data['Close'].values\n",
    "model, scaler = train_lstm_model(series)\n",
    "\n",
    "# Prediction\n",
    "window = 60\n",
    "input_seq = scaler.transform(series[-window:].reshape(-1,1)).reshape(1, window, 1)\n",
    "predicted = model.predict(input_seq)\n",
    "predicted_price = scaler.inverse_transform(predicted)[0][0]\n",
    "\n",
    "print(\"Predicted next day price:\", predicted_price)\n",
    "\n",
    "# Portfolio Optimization\n",
    "tickers = ['AAPL', 'MSFT', 'GOOGL', 'AMZN']\n",
    "log_ret_df = []\n",
    "\n",
    "for t in tickers:\n",
    "    d = get_stock_data(t)\n",
    "    log_ret_df.append(d['log_returns'])\n",
    "\n",
    "import pandas as pd\n",
    "log_returns_df = pd.concat(log_ret_df, axis=1)\n",
    "log_returns_df.columns = tickers\n",
    "\n",
    "results, weights = simulate_portfolios(log_returns_df)\n",
    "plot_efficient_frontier(results)\n"
   ]
  }
 ],
 "metadata": {
  "kernelspec": {
   "display_name": ".venv",
   "language": "python",
   "name": "python3"
  },
  "language_info": {
   "codemirror_mode": {
    "name": "ipython",
    "version": 3
   },
   "file_extension": ".py",
   "mimetype": "text/x-python",
   "name": "python",
   "nbconvert_exporter": "python",
   "pygments_lexer": "ipython3",
   "version": "3.12.1"
  }
 },
 "nbformat": 4,
 "nbformat_minor": 5
}
