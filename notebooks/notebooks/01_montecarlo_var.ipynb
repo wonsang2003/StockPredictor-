{
 "cells": [
  {
   "cell_type": "code",
   "execution_count": null,
   "id": "d1473012",
   "metadata": {},
   "outputs": [],
   "source": [
    "import numpy as np\n",
    "import matplotlib.pyplot as plt\n",
    "from src.data_loader import get_stock_data\n",
    "from src.mc_simulation import monte_carlo_simulation, plot_simulation\n",
    "from src.var_calc import historical_var, parametric_var\n",
    "\n",
    "# Load stock data\n",
    "data = get_stock_data('AAPL')\n",
    "returns = data['log_returns']\n",
    "\n",
    "# Stats for simulation\n",
    "mu = returns.mean()\n",
    "sigma = returns.std()\n",
    "S0 = data['Close'].iloc[-1]\n",
    "\n",
    "# Simulate\n",
    "simulations = monte_carlo_simulation(S0, mu, sigma, days=30, n_sim=1000)\n",
    "plot_simulation(simulations)\n",
    "\n",
    "# VaR\n",
    "hist_var = historical_var(returns)\n",
    "param_var = parametric_var(returns)\n",
    "\n",
    "print(f\"Historical VaR (95%): {hist_var:.4f}\")\n",
    "print(f\"Parametric VaR (95%): {param_var:.4f}\")\n"
   ]
  }
 ],
 "metadata": {
  "kernelspec": {
   "display_name": ".venv",
   "language": "python",
   "name": "python3"
  },
  "language_info": {
   "name": "python",
   "version": "3.12.1"
  }
 },
 "nbformat": 4,
 "nbformat_minor": 5
}
